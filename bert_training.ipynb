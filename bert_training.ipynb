{
  "cells": [
    {
      "cell_type": "code",
      "execution_count": null,
      "metadata": {
        "colab": {
          "base_uri": "https://localhost:8080/"
        },
        "id": "7S9IfN7zFoOV",
        "outputId": "6f74d0d9-20fb-4428-a19d-cb21a77273b5"
      },
      "outputs": [
        {
          "name": "stdout",
          "output_type": "stream",
          "text": [
            "Looking in indexes: https://pypi.org/simple, https://us-python.pkg.dev/colab-wheels/public/simple/\n",
            "Collecting transformers\n",
            "  Downloading transformers-4.29.2-py3-none-any.whl (7.1 MB)\n",
            "\u001b[2K     \u001b[90m━━━━━━━━━━━━━━━━━━━━━━━━━━━━━━━━━━━━━━━━\u001b[0m \u001b[32m7.1/7.1 MB\u001b[0m \u001b[31m44.6 MB/s\u001b[0m eta \u001b[36m0:00:00\u001b[0m\n",
            "\u001b[?25hRequirement already satisfied: filelock in /usr/local/lib/python3.10/dist-packages (from transformers) (3.12.0)\n",
            "Collecting huggingface-hub<1.0,>=0.14.1 (from transformers)\n",
            "  Downloading huggingface_hub-0.14.1-py3-none-any.whl (224 kB)\n",
            "\u001b[2K     \u001b[90m━━━━━━━━━━━━━━━━━━━━━━━━━━━━━━━━━━━━━━\u001b[0m \u001b[32m224.5/224.5 kB\u001b[0m \u001b[31m18.3 MB/s\u001b[0m eta \u001b[36m0:00:00\u001b[0m\n",
            "\u001b[?25hRequirement already satisfied: numpy>=1.17 in /usr/local/lib/python3.10/dist-packages (from transformers) (1.22.4)\n",
            "Requirement already satisfied: packaging>=20.0 in /usr/local/lib/python3.10/dist-packages (from transformers) (23.1)\n",
            "Requirement already satisfied: pyyaml>=5.1 in /usr/local/lib/python3.10/dist-packages (from transformers) (6.0)\n",
            "Requirement already satisfied: regex!=2019.12.17 in /usr/local/lib/python3.10/dist-packages (from transformers) (2022.10.31)\n",
            "Requirement already satisfied: requests in /usr/local/lib/python3.10/dist-packages (from transformers) (2.27.1)\n",
            "Collecting tokenizers!=0.11.3,<0.14,>=0.11.1 (from transformers)\n",
            "  Downloading tokenizers-0.13.3-cp310-cp310-manylinux_2_17_x86_64.manylinux2014_x86_64.whl (7.8 MB)\n",
            "\u001b[2K     \u001b[90m━━━━━━━━━━━━━━━━━━━━━━━━━━━━━━━━━━━━━━━━\u001b[0m \u001b[32m7.8/7.8 MB\u001b[0m \u001b[31m72.0 MB/s\u001b[0m eta \u001b[36m0:00:00\u001b[0m\n",
            "\u001b[?25hRequirement already satisfied: tqdm>=4.27 in /usr/local/lib/python3.10/dist-packages (from transformers) (4.65.0)\n",
            "Requirement already satisfied: fsspec in /usr/local/lib/python3.10/dist-packages (from huggingface-hub<1.0,>=0.14.1->transformers) (2023.4.0)\n",
            "Requirement already satisfied: typing-extensions>=3.7.4.3 in /usr/local/lib/python3.10/dist-packages (from huggingface-hub<1.0,>=0.14.1->transformers) (4.5.0)\n",
            "Requirement already satisfied: urllib3<1.27,>=1.21.1 in /usr/local/lib/python3.10/dist-packages (from requests->transformers) (1.26.15)\n",
            "Requirement already satisfied: certifi>=2017.4.17 in /usr/local/lib/python3.10/dist-packages (from requests->transformers) (2022.12.7)\n",
            "Requirement already satisfied: charset-normalizer~=2.0.0 in /usr/local/lib/python3.10/dist-packages (from requests->transformers) (2.0.12)\n",
            "Requirement already satisfied: idna<4,>=2.5 in /usr/local/lib/python3.10/dist-packages (from requests->transformers) (3.4)\n",
            "Installing collected packages: tokenizers, huggingface-hub, transformers\n",
            "Successfully installed huggingface-hub-0.14.1 tokenizers-0.13.3 transformers-4.29.2\n",
            "Looking in indexes: https://pypi.org/simple, https://us-python.pkg.dev/colab-wheels/public/simple/\n",
            "Requirement already satisfied: numba in /usr/local/lib/python3.10/dist-packages (0.56.4)\n",
            "Requirement already satisfied: llvmlite<0.40,>=0.39.0dev0 in /usr/local/lib/python3.10/dist-packages (from numba) (0.39.1)\n",
            "Requirement already satisfied: numpy<1.24,>=1.18 in /usr/local/lib/python3.10/dist-packages (from numba) (1.22.4)\n",
            "Requirement already satisfied: setuptools in /usr/local/lib/python3.10/dist-packages (from numba) (67.7.2)\n"
          ]
        }
      ],
      "source": [
        "!pip install transformers\n",
        "!pip install numba"
      ]
    },
    {
      "cell_type": "code",
      "execution_count": null,
      "metadata": {
        "id": "GNAJpWxX-WoU"
      },
      "outputs": [],
      "source": [
        "from numba import cuda\n",
        "device = cuda.get_current_device() \n",
        "device.reset()\n"
      ]
    },
    {
      "cell_type": "code",
      "execution_count": null,
      "metadata": {
        "colab": {
          "base_uri": "https://localhost:8080/"
        },
        "id": "kbodH5OaFm_X",
        "outputId": "bfa62623-a664-48e3-84eb-e74b83e99012"
      },
      "outputs": [
        {
          "output_type": "stream",
          "name": "stdout",
          "text": [
            "Tensorflow version: 2.12.0\n",
            "The system contains '1' Physical GPUs and '1' Logical GPUs\n"
          ]
        }
      ],
      "source": [
        "\n",
        "import tensorflow as tf\n",
        "import os\n",
        "print(f\"Tensorflow version: {tf.__version__}\")\n",
        "\n",
        "# Restrict TensorFlow to only allocate 4GBs of memory on the first GPU\n",
        "gpus = tf.config.experimental.list_physical_devices('GPU')\n",
        "if gpus:\n",
        "  try:\n",
        "    tf.config.experimental.set_virtual_device_configuration(\n",
        "        gpus[0],\n",
        "        [tf.config.experimental.VirtualDeviceConfiguration(memory_limit=4096)])\n",
        "    #tf.config.experimental.set_memory_growth(gpus[0], True)\n",
        "    logical_gpus = tf.config.experimental.list_logical_devices('GPU')\n",
        "    print(f\"The system contains '{len(gpus)}' Physical GPUs and '{len(logical_gpus)}' Logical GPUs\")\n",
        "  except RuntimeError as e:\n",
        "    print(e)\n",
        "else:\n",
        "    print(f\"Your system does not contain a GPU that could be used by Tensorflow!\")"
      ]
    },
    {
      "cell_type": "code",
      "execution_count": null,
      "metadata": {
        "id": "hm3lCq7uGM1a"
      },
      "outputs": [],
      "source": [
        "import pandas as pd\n",
        "from sklearn import preprocessing\n",
        "from sklearn.model_selection import train_test_split\n",
        "\n",
        "import numpy as np\n",
        "from sklearn.model_selection import train_test_split\n",
        "\n",
        "from transformers import (TFBertForSequenceClassification, \n",
        "                          BertTokenizer)\n",
        "\n",
        "from tqdm import tqdm"
      ]
    },
    {
      "cell_type": "code",
      "execution_count": null,
      "metadata": {
        "colab": {
          "base_uri": "https://localhost:8080/"
        },
        "id": "MvkQrdEbGM91",
        "outputId": "e4da2c86-11a2-46b9-ccbd-1b835488dcce"
      },
      "outputs": [
        {
          "output_type": "stream",
          "name": "stdout",
          "text": [
            "Train dataset shape: (271,), \n",
            "Test dataset shape: (34,) \n",
            "Validation dataset shape: (34,)\n"
          ]
        }
      ],
      "source": [
        "data = pd.read_csv('dataset_sentences.csv')\n",
        "\n",
        "# Transform positive/negative values to 1/0s\n",
        "label_encoder = preprocessing.LabelEncoder()\n",
        "data['sentiment'] = label_encoder.fit_transform(data['sentiment'])\n",
        "\n",
        "X = (np.array(data['review']))\n",
        "y = (np.array(data['sentiment']))\n",
        "\n",
        "X_train, X_test, y_train, y_test = train_test_split(X, y, test_size=0.1, random_state=1, stratify=data[\"sentiment\"])\n",
        "X_train, X_val, y_train, y_val = train_test_split(X_train, y_train, test_size=0.111, random_state=1)\n",
        "\n",
        "print(\"Train dataset shape: {0}, \\nTest dataset shape: {1} \\nValidation dataset shape: {2}\".format(X_train.shape, X_test.shape, X_val.shape))"
      ]
    },
    {
      "cell_type": "code",
      "source": [
        "X_train, y_train = expand(X_train, y_train)\n",
        "X_test, y_test = expand(X_test, y_test)\n",
        "X_val, y_val = expand(X_val, y_val)"
      ],
      "metadata": {
        "id": "G2bLxfR3-6-j"
      },
      "execution_count": null,
      "outputs": []
    },
    {
      "cell_type": "code",
      "execution_count": null,
      "metadata": {
        "id": "F1-JIEChBfCj"
      },
      "outputs": [],
      "source": [
        "def expand(x, y):\n",
        "  final_x = []\n",
        "  final_y = []\n",
        "\n",
        "  for i, sample in enumerate(x):\n",
        "    samples = sample.split(\"$\")\n",
        "    final_x += samples\n",
        "    \n",
        "    label = y[i]\n",
        "    final_y += ([label] * len(samples))\n",
        "\n",
        "  return np.array(final_x), np.array(final_y)"
      ]
    },
    {
      "cell_type": "code",
      "execution_count": null,
      "metadata": {
        "id": "yg978u_iGNJa",
        "colab": {
          "base_uri": "https://localhost:8080/"
        },
        "outputId": "f0b85bae-56fd-4e69-d482-8f12ca806d62"
      },
      "outputs": [
        {
          "output_type": "stream",
          "name": "stderr",
          "text": [
            "All model checkpoint layers were used when initializing TFBertForSequenceClassification.\n",
            "\n",
            "Some layers of TFBertForSequenceClassification were not initialized from the model checkpoint at bert-base-cased and are newly initialized: ['classifier']\n",
            "You should probably TRAIN this model on a down-stream task to be able to use it for predictions and inference.\n"
          ]
        }
      ],
      "source": [
        "bert_model = TFBertForSequenceClassification.from_pretrained(\"bert-base-cased\")\n",
        "bert_tokenizer = BertTokenizer.from_pretrained(\"bert-base-cased\")"
      ]
    },
    {
      "cell_type": "code",
      "execution_count": null,
      "metadata": {
        "id": "KQfWAE_MTJxk"
      },
      "outputs": [],
      "source": [
        "pad_token=0\n",
        "pad_token_segment_id=0\n",
        "max_length=128\n",
        "\n",
        "def convert_to_input(reviews):\n",
        "  input_ids,attention_masks,token_type_ids=[],[],[]\n",
        "  \n",
        "  for x in tqdm(reviews,position=0, leave=True):\n",
        "    inputs = bert_tokenizer.encode_plus(x,add_special_tokens=True, max_length=max_length)\n",
        "    \n",
        "    i, t = inputs[\"input_ids\"], inputs[\"token_type_ids\"]\n",
        "    m = [1] * len(i)\n",
        "\n",
        "    padding_length = max_length - len(i)\n",
        "\n",
        "    i = i + ([pad_token] * padding_length)\n",
        "    m = m + ([0] * padding_length)\n",
        "    t = t + ([pad_token_segment_id] * padding_length)\n",
        "    \n",
        "    input_ids.append(i)\n",
        "    attention_masks.append(m)\n",
        "    token_type_ids.append(t)\n",
        "  \n",
        "  return [np.asarray(input_ids), \n",
        "            np.asarray(attention_masks), \n",
        "            np.asarray(token_type_ids)]"
      ]
    },
    {
      "cell_type": "code",
      "execution_count": null,
      "metadata": {
        "colab": {
          "base_uri": "https://localhost:8080/"
        },
        "id": "kitY8ZX4mHwe",
        "outputId": "aa3d77ee-8921-4223-a422-3f123c39b3a6"
      },
      "outputs": [
        {
          "output_type": "stream",
          "name": "stderr",
          "text": [
            "  0%|          | 0/107 [00:00<?, ?it/s]Truncation was not explicitly activated but `max_length` is provided a specific value, please use `truncation=True` to explicitly truncate examples to max length. Defaulting to 'longest_first' truncation strategy. If you encode pairs of sequences (GLUE-style) with the tokenizer you can select this strategy more precisely by providing a specific strategy to `truncation`.\n",
            "100%|██████████| 107/107 [00:00<00:00, 1791.12it/s]\n",
            "100%|██████████| 1133/1133 [00:00<00:00, 1885.32it/s]\n",
            "100%|██████████| 152/152 [00:00<00:00, 1839.80it/s]\n"
          ]
        }
      ],
      "source": [
        "X_test_input=convert_to_input(X_test)\n",
        "X_train_input=convert_to_input(X_train)\n",
        "X_val_input=convert_to_input(X_val)"
      ]
    },
    {
      "cell_type": "code",
      "execution_count": null,
      "metadata": {
        "id": "2--NOpQk7dMg"
      },
      "outputs": [],
      "source": [
        "def example_to_features(input_ids,attention_masks,token_type_ids,y):\n",
        "  return {\"input_ids\": input_ids,\n",
        "          \"attention_mask\": attention_masks,\n",
        "          \"token_type_ids\": token_type_ids},y\n",
        "\n",
        "train_ds = tf.data.Dataset.from_tensor_slices((X_train_input[0],X_train_input[1],X_train_input[2],y_train)).map(example_to_features).shuffle(100).batch(12).repeat(5)\n",
        "val_ds=tf.data.Dataset.from_tensor_slices((X_val_input[0],X_val_input[1],X_val_input[2],y_val)).map(example_to_features).batch(12)\n",
        "test_ds=tf.data.Dataset.from_tensor_slices((X_test_input[0],X_test_input[1],X_test_input[2],y_test)).map(example_to_features).batch(12)"
      ]
    },
    {
      "cell_type": "code",
      "execution_count": null,
      "metadata": {
        "id": "bvZVfO_CGNgd"
      },
      "outputs": [],
      "source": [
        "optimizer = tf.keras.optimizers.Adam(learning_rate=3e-5, epsilon=1e-08, clipnorm=1.0)\n",
        "loss = tf.keras.losses.SparseCategoricalCrossentropy(from_logits=True)\n",
        "metric = tf.keras.metrics.SparseCategoricalAccuracy('accuracy')\n",
        "\n",
        "bert_model.compile(optimizer=optimizer, loss=loss, metrics=[metric])"
      ]
    },
    {
      "cell_type": "code",
      "execution_count": null,
      "metadata": {
        "colab": {
          "base_uri": "https://localhost:8080/"
        },
        "id": "Qu2BiuepGNre",
        "outputId": "840f787d-07e2-473a-e751-728119db4269"
      },
      "outputs": [
        {
          "output_type": "stream",
          "name": "stdout",
          "text": [
            "Fine-tuning BERT\n",
            "Epoch 1/3\n",
            "475/475 [==============================] - 233s 370ms/step - loss: 0.6799 - accuracy: 0.5914 - val_loss: 0.6351 - val_accuracy: 0.8026\n",
            "Epoch 2/3\n",
            "475/475 [==============================] - 161s 339ms/step - loss: 0.6756 - accuracy: 0.5850 - val_loss: 0.6329 - val_accuracy: 0.8026\n",
            "Epoch 3/3\n",
            "475/475 [==============================] - 160s 336ms/step - loss: 0.6677 - accuracy: 0.5933 - val_loss: 0.6942 - val_accuracy: 0.1974\n"
          ]
        }
      ],
      "source": [
        "print(\"Fine-tuning BERT\")\n",
        "bert_history = bert_model.fit(train_ds, epochs=3, validation_data=val_ds)"
      ]
    },
    {
      "cell_type": "code",
      "execution_count": null,
      "metadata": {
        "id": "ReEELwLWFnAT",
        "colab": {
          "base_uri": "https://localhost:8080/"
        },
        "outputId": "7d135efb-b9f5-452f-d484-0fc4f1dedd6a"
      },
      "outputs": [
        {
          "output_type": "stream",
          "name": "stdout",
          "text": [
            "[0 0 0 0 0 0 0 0 0 0 1 1 1 1 0 0 0 1 1 1 0 1 1 1 0 0 0 0 0 0 0 0 1 1 1 1 1\n",
            " 1 1 1 0 0 0 0 0 0 0 1 1 1 1 1 1 1 1 1 1 1 1 1 1 1 1 1 1 1 1 1 1 1 1 1 1 1\n",
            " 0 1 1 1 1 1 1 1 1 0 0 1 1 1 0 0 0 1 1 1 1 1 1 1 1 1 1 1 1 1 1 1 1]\n"
          ]
        }
      ],
      "source": [
        "results_true = test_ds.unbatch()\n",
        "results_true = np.asarray([element[1].numpy() for element in results_true])\n",
        "print(results_true)"
      ]
    },
    {
      "cell_type": "code",
      "execution_count": null,
      "metadata": {
        "id": "QRxNxcGnFnAY",
        "colab": {
          "base_uri": "https://localhost:8080/"
        },
        "outputId": "9ad50b79-463a-4a34-a489-f02a97db9597"
      },
      "outputs": [
        {
          "output_type": "stream",
          "name": "stdout",
          "text": [
            "9/9 [==============================] - 4s 110ms/step\n",
            "Model predictions:\n",
            " [[-0.15677695 -0.16025719]\n",
            " [-0.15677437 -0.16025986]\n",
            " [-0.1567756  -0.16025771]\n",
            " [-0.15677924 -0.16025887]\n",
            " [-0.1567742  -0.16026358]\n",
            " [-0.15677762 -0.1602569 ]\n",
            " [-0.15678588 -0.16025688]\n",
            " [-0.15678132 -0.16024905]\n",
            " [-0.1567759  -0.16025743]\n",
            " [-0.15676999 -0.16026603]\n",
            " [-0.15677546 -0.1602696 ]\n",
            " [-0.15678693 -0.16025935]\n",
            " [-0.15677857 -0.1602553 ]\n",
            " [-0.15677734 -0.16025612]\n",
            " [-0.15677461 -0.16025992]\n",
            " [-0.15677409 -0.16026172]\n",
            " [-0.1567807  -0.16025344]\n",
            " [-0.15676998 -0.16026618]\n",
            " [-0.15676713 -0.16027115]\n",
            " [-0.15676902 -0.16027142]\n",
            " [-0.15677321 -0.16026172]\n",
            " [-0.15677994 -0.16025168]\n",
            " [-0.15676959 -0.16026744]\n",
            " [-0.15676375 -0.16027533]\n",
            " [-0.15677366 -0.1602602 ]\n",
            " [-0.156772   -0.16026257]\n",
            " [-0.1567676  -0.16027202]\n",
            " [-0.15677865 -0.1602587 ]\n",
            " [-0.15677324 -0.16026117]\n",
            " [-0.15676908 -0.16026907]\n",
            " [-0.1567746  -0.16026124]\n",
            " [-0.15677509 -0.16026008]\n",
            " [-0.15676947 -0.16026814]\n",
            " [-0.15677981 -0.1602526 ]\n",
            " [-0.15677318 -0.16026178]\n",
            " [-0.15677877 -0.16025655]\n",
            " [-0.15677206 -0.1602626 ]\n",
            " [-0.15677284 -0.16026363]\n",
            " [-0.15678093 -0.16024981]\n",
            " [-0.15677899 -0.16025132]\n",
            " [-0.15678331 -0.16024832]\n",
            " [-0.15676963 -0.16027139]\n",
            " [-0.15676342 -0.16027772]\n",
            " [-0.15676601 -0.16027434]\n",
            " [-0.15676725 -0.16026905]\n",
            " [-0.15676725 -0.16026905]\n",
            " [-0.15676667 -0.16027044]\n",
            " [-0.15677671 -0.16025817]\n",
            " [-0.15677072 -0.16026464]\n",
            " [-0.1567707  -0.16026644]\n",
            " [-0.15677339 -0.16025884]\n",
            " [-0.1567759  -0.16025814]\n",
            " [-0.1567706  -0.16026598]\n",
            " [-0.15677921 -0.16028036]\n",
            " [-0.15677227 -0.16026534]\n",
            " [-0.15677048 -0.1602677 ]\n",
            " [-0.15676776 -0.1602734 ]\n",
            " [-0.15677474 -0.16025846]\n",
            " [-0.15677361 -0.16026156]\n",
            " [-0.15677407 -0.1602615 ]\n",
            " [-0.15678315 -0.1602484 ]\n",
            " [-0.15677877 -0.16025423]\n",
            " [-0.15677796 -0.16025461]\n",
            " [-0.15677783 -0.1602574 ]\n",
            " [-0.15677638 -0.16025603]\n",
            " [-0.15677784 -0.16025712]\n",
            " [-0.15678093 -0.16025238]\n",
            " [-0.15677626 -0.16025805]\n",
            " [-0.1567824  -0.16025092]\n",
            " [-0.15677328 -0.16026318]\n",
            " [-0.15678205 -0.16024944]\n",
            " [-0.15677723 -0.16025652]\n",
            " [-0.15677948 -0.16025464]\n",
            " [-0.15677752 -0.16025831]\n",
            " [-0.15677795 -0.16025506]\n",
            " [-0.15677671 -0.1602587 ]\n",
            " [-0.15676855 -0.16026714]\n",
            " [-0.15678063 -0.16025038]\n",
            " [-0.15678121 -0.16024965]\n",
            " [-0.15677373 -0.16026022]\n",
            " [-0.15677416 -0.1602616 ]\n",
            " [-0.15677416 -0.1602616 ]\n",
            " [-0.15677331 -0.16026108]\n",
            " [-0.15677194 -0.16026267]\n",
            " [-0.15677194 -0.16026267]\n",
            " [-0.15677142 -0.16026479]\n",
            " [-0.15677088 -0.16026583]\n",
            " [-0.1567785  -0.16025375]\n",
            " [-0.15677406 -0.16026148]\n",
            " [-0.15677218 -0.1602639 ]\n",
            " [-0.15677765 -0.16025604]\n",
            " [-0.15677534 -0.16025867]\n",
            " [-0.15677804 -0.16025381]\n",
            " [-0.1567778  -0.1602553 ]\n",
            " [-0.15678133 -0.16025159]\n",
            " [-0.15677814 -0.16025451]\n",
            " [-0.1567735  -0.16026033]\n",
            " [-0.15677889 -0.16025418]\n",
            " [-0.15677398 -0.16025904]\n",
            " [-0.15677615 -0.16025744]\n",
            " [-0.1567749  -0.1602586 ]\n",
            " [-0.15677723 -0.1602526 ]\n",
            " [-0.1567706  -0.16026503]\n",
            " [-0.15677063 -0.16026507]\n",
            " [-0.15677352 -0.1602615 ]\n",
            " [-0.15677421 -0.16025898]\n",
            " [-0.15677199 -0.16026206]]\n"
          ]
        }
      ],
      "source": [
        "results = bert_model.predict(test_ds)\n",
        "print(f\"Model predictions:\\n {results.logits}\")\n",
        "\n",
        "results_predicted = np.argmax(results.logits, axis=1)"
      ]
    },
    {
      "cell_type": "code",
      "execution_count": null,
      "metadata": {
        "id": "usk8Bl2Q3RCu",
        "colab": {
          "base_uri": "https://localhost:8080/"
        },
        "outputId": "71801842-7ef2-4666-a4d0-8a06c52ebaf4"
      },
      "outputs": [
        {
          "output_type": "execute_result",
          "data": {
            "text/plain": [
              "array([0, 0, 0, 0, 0, 0, 0, 0, 0, 0, 0, 0, 0, 0, 0, 0, 0, 0, 0, 0, 0, 0,\n",
              "       0, 0, 0, 0, 0, 0, 0, 0, 0, 0, 0, 0, 0, 0, 0, 0, 0, 0, 0, 0, 0, 0,\n",
              "       0, 0, 0, 0, 0, 0, 0, 0, 0, 0, 0, 0, 0, 0, 0, 0, 0, 0, 0, 0, 0, 0,\n",
              "       0, 0, 0, 0, 0, 0, 0, 0, 0, 0, 0, 0, 0, 0, 0, 0, 0, 0, 0, 0, 0, 0,\n",
              "       0, 0, 0, 0, 0, 0, 0, 0, 0, 0, 0, 0, 0, 0, 0, 0, 0, 0, 0])"
            ]
          },
          "metadata": {},
          "execution_count": 16
        }
      ],
      "source": [
        "results_predicted"
      ]
    },
    {
      "cell_type": "code",
      "execution_count": null,
      "metadata": {
        "id": "UwqRXesXFnAc",
        "colab": {
          "base_uri": "https://localhost:8080/"
        },
        "outputId": "1fd70dd8-4406-421f-d938-1caa3a35b5f3"
      },
      "outputs": [
        {
          "output_type": "stream",
          "name": "stdout",
          "text": [
            "F1 score: 0.0\n",
            "Accuracy score: 0.32710280373831774\n"
          ]
        }
      ],
      "source": [
        "from sklearn.metrics import f1_score\n",
        "from sklearn.metrics import accuracy_score\n",
        "\n",
        "print(f\"F1 score: {f1_score(results_true, results_predicted)}\")\n",
        "print(f\"Accuracy score: {accuracy_score(results_true, results_predicted)}\")"
      ]
    },
    {
      "cell_type": "code",
      "execution_count": null,
      "metadata": {
        "id": "LPxR8DjM6MmO",
        "colab": {
          "base_uri": "https://localhost:8080/"
        },
        "outputId": "70a95286-a9a1-4762-e26b-524417b10fb0"
      },
      "outputs": [
        {
          "output_type": "stream",
          "name": "stdout",
          "text": [
            "F1 score: 0.8044692737430167\n",
            "Accuracy score: 0.6728971962616822\n"
          ]
        }
      ],
      "source": [
        "predicted_baseline = np.ones(len(results_true))\n",
        "print(f\"F1 score: {f1_score(results_true, predicted_baseline)}\")\n",
        "print(f\"Accuracy score: {accuracy_score(results_true, predicted_baseline)}\")"
      ]
    },
    {
      "cell_type": "code",
      "execution_count": null,
      "metadata": {
        "colab": {
          "base_uri": "https://localhost:8080/"
        },
        "id": "T5oAUz_lFnAg",
        "outputId": "bc009746-e93c-4fe0-9ec6-a4a6659a5a7b"
      },
      "outputs": [
        {
          "output_type": "stream",
          "name": "stderr",
          "text": [
            "Some layers from the model checkpoint at ./ were not used when initializing TFBertForSequenceClassification: ['dropout_37']\n",
            "- This IS expected if you are initializing TFBertForSequenceClassification from the checkpoint of a model trained on another task or with another architecture (e.g. initializing a BertForSequenceClassification model from a BertForPreTraining model).\n",
            "- This IS NOT expected if you are initializing TFBertForSequenceClassification from the checkpoint of a model that you expect to be exactly identical (initializing a BertForSequenceClassification model from a BertForSequenceClassification model).\n",
            "All the layers of TFBertForSequenceClassification were initialized from the model checkpoint at ./.\n",
            "If your task is similar to the task the model of the checkpoint was trained on, you can already use TFBertForSequenceClassification for predictions without further training.\n"
          ]
        }
      ],
      "source": [
        "# SAVING YOUR MODEL\n",
        "bert_model.save_pretrained('/content')\n",
        "\n",
        "# LOADING YOUR MODEL\n",
        "bert_model = TFBertForSequenceClassification.from_pretrained('./')"
      ]
    }
  ],
  "metadata": {
    "accelerator": "GPU",
    "colab": {
      "provenance": []
    },
    "gpuClass": "standard",
    "kernelspec": {
      "display_name": "Python [conda env:nlp-course-fri]",
      "language": "python",
      "name": "conda-env-nlp-course-fri-py"
    },
    "language_info": {
      "codemirror_mode": {
        "name": "ipython",
        "version": 3
      },
      "file_extension": ".py",
      "mimetype": "text/x-python",
      "name": "python",
      "nbconvert_exporter": "python",
      "pygments_lexer": "ipython3",
      "version": "3.6.10"
    }
  },
  "nbformat": 4,
  "nbformat_minor": 0
}