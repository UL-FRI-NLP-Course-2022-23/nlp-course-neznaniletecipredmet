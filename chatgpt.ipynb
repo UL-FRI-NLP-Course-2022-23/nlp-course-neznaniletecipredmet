{
 "cells": [
  {
   "cell_type": "code",
   "execution_count": 3,
   "metadata": {},
   "outputs": [],
   "source": [
    "import openai\n",
    "import os\n",
    "\n",
    "from dotenv import load_dotenv, find_dotenv\n",
    "_ = load_dotenv(find_dotenv())\n",
    "\n",
    "openai.api_key  = os.getenv('OPENAI_API_KEY')"
   ]
  },
  {
   "cell_type": "code",
   "execution_count": 4,
   "metadata": {},
   "outputs": [],
   "source": [
    "def get_completion(prompt, model=\"gpt-3.5-turbo\"):\n",
    "    messages = [{\"role\": \"user\", \"content\": prompt}]\n",
    "    response = openai.ChatCompletion.create(\n",
    "        model=model,\n",
    "        messages=messages,\n",
    "        temperature=0, # this is the degree of randomness of the model's output\n",
    "    )\n",
    "    print(response['usage']['total_tokens'])\n",
    "    return response.choices[0].message[\"content\"]"
   ]
  },
  {
   "cell_type": "code",
   "execution_count": 3,
   "metadata": {},
   "outputs": [
    {
     "name": "stdout",
     "output_type": "stream",
     "text": [
      "32\n",
      "I am an AI language model created by OpenAI. How can I assist you today?\n"
     ]
    }
   ],
   "source": [
    "print(get_completion(\"hello. who are you?\"))"
   ]
  },
  {
   "cell_type": "code",
   "execution_count": 11,
   "metadata": {},
   "outputs": [],
   "source": [
    "story = \"\"\"\n",
    "Tisto leto je bila dolga in huda zima. Tam zunaj je divje metlo, veter je bučal med drevesi in bilo je že vse temno. Lisica je v svoji jami venomer podtikala in iz njenega dimnika se je prav lepo kadilo. Pravkar je bila zamešala polento, ko je začula trkanje na vrata.\n",
    "\n",
    "- Kdo hodi okoli ob teh urah in v tem vremenu? je dejala lisica.\n",
    "\n",
    "- Jaz sem, jež sem, odprimi, bodi dobra, ker bom tu zmrznil, nos mi že ledeni!\n",
    "\n",
    "- Ne, ne! je odgovorila lisica, če prideš noter, me boš pobodel!\n",
    "\n",
    "- Obljubljam ti, da ti ne bom v nadlego, usmili se me! je rekel jež.\n",
    "\n",
    "Lisica, ki je bila usmiljena, mu je odprla in mu je dejala:\n",
    "\n",
    "- Bodi tu za vrati in se nikamor ne gani!\n",
    "\n",
    "Jež se je stisnil v kot. Lisica je zmešala polento in jež se je počasi, ko je lisica gledala v kotel, začel sukati po hiši. Tako je prišel do ognjišča.\n",
    "\n",
    "- Kaj pa delaš tule? ga je vprašala lisica, obljubil si mi, da se ne ganeš od vrat.\n",
    "\n",
    "- Ja, ja, obljubil sem ti, je dejal jež, pa mi je hudo mraz; pusti me blizu ognja, saj te ne tikam!\n",
    "\n",
    "- Naj bo! je dejala lisica.\n",
    "\n",
    "Polenta je bila kuhana in je dišala po vsej hiši. Lisica joje zvrnila tja na mizo in je vlila omako v skledo. Jež, ki je vse tole gledal, se je približal k mizi in je pomakati polento.\n",
    "\n",
    "- Ne mi vsega pojesti, je dejala lisica, saj si brez vsake olike!\n",
    "\n",
    "Jež je kar naprej jedel in lisica, ki se je bala, da se zbode, ga je gledala, roke pa si ni upala stegniti v skledo. Ko je jež nehal jesti, je šel v lisičino posteljo in se lepo stegnil.\n",
    "\n",
    "- Čuješ je dejal jež, jaz in ti bi lahko postala prijatelja. Ti boš hodila okoli in lovila kokoši, jaz pa bom tu doma kuhal in varoval hišo.\n",
    "\n",
    "- Ne, ne, je dejala lisica, ta hiša je moja, sem jo jaz napravila in bom sama živela v njej. Kar hodi po svoji poti, trudna sem in se mi hoče spati.\n",
    "\n",
    "- Kam naj grem v tem mrazu, je dejal jež, tu je toplo in prav lepo! Če ti ne gre, da bi živela z mano, pa se poberi!\n",
    "\n",
    "In jež je stopil iz postelje in se je zaletel lisici med noge. Lisica je začela tekati po hiši in vpiti. Nazadnje je vsa zasopla stekla iz hiše. Jež je hitro zaprl vrata z zapahom in šel spat. Lisica pa seje tresla in jokala v snegu.\n",
    "\"\"\""
   ]
  },
  {
   "cell_type": "code",
   "execution_count": 25,
   "metadata": {},
   "outputs": [],
   "source": [
    "story = \"\"\"\n",
    "Bila je kmetica in je imela majhne otroke. Hodila je na polje delat, otroke pa je puščala doma ter jim v skledo dajala mleka, da medtem niso bili lačni. Vselej so vse pojedli, zato jih je mati hvalila, dn so pridni. Otroci pa so rekli: - Saj ne jemo sami, k nam hodi tudi lep ptiček jest. Mati si je mislila, da prihaja kakšna mačka in je z otroki. Vendar se ji je čudno zdelo, da otroci pripovedujejo o lepem belem ptičku. Hotela se je prepričati, kaj je. Skrila se je tedaj v hišo in postavila otrokom mleko v veži kakor ponavadi ter čakala, kaj bo. Kmalu se je privila izpod mize bela kača z lepo krono na glavi ter se zvila najmlajšemu v naročje. Mati je bila vsa trda od strahu. Otroci pa so božali in gladili lepega ptička. Ko se je kača najedla, je stresla lepo kronico z glave in se spet izgubila v luknjo. Brž, ko je kača izginila, je mati skočila v vežo in spravila otroke na varno; seveda ni pozabila pobrati tudi krone. Dala jo je v skrinjo, kjer so imeli prejo. Ded je pozimi prejo vil. Vso zimo je vil, pa je ni mogel poviti. Žena si je mislila: - Kaj neki more to biti? Morda ima krona tako moč? Zato so dali krono proč in kmalu je bila preja povita. Nato so dali krono v žito, pa ni nikdar pošlo v njihovi kašči. Tako so devali kronico tudi k drugim rečem in v kratkem času si je hiša tako opomogla, da je bila najpremožnejša v vasi. Imeli so kronico tako dolgo, dokler je bil pri hiši tisti rod, ki je z belo kačo prijazno in lepo ravnal.\n",
    "\"\"\""
   ]
  },
  {
   "cell_type": "code",
   "execution_count": 2,
   "metadata": {},
   "outputs": [],
   "source": [
    "prompt1 = f\"\"\"\n",
    "In triple backticks you will be provided a story. Output a json format in which \n",
    "the keys are characters in a story and the value for each character in a story is a list of tuples where \n",
    "each tuple is the position of character in the story.\n",
    "\n",
    "```{story}```\n",
    "\"\"\""
   ]
  },
  {
   "cell_type": "code",
   "execution_count": 20,
   "metadata": {},
   "outputs": [],
   "source": [
    "story = \"\"\"\n",
    "Lisica se je postarala, nič več ni mogla na lov. Poležavala je pred hišo, pa je mimo pritekel zajček. »Usmili se, zajček, tako sem lačna. Naberi mi malo trave, da se najem,« je prosila lisica. \n",
    "A zajček? »O, ne,« je rekel, »tebi ni do trave. Mene hočeš!« - In je pobegnil. Prevečkrat je slišal njene zvijače, da bi ji verjel.\n",
    "\"\"\""
   ]
  },
  {
   "cell_type": "code",
   "execution_count": 27,
   "metadata": {},
   "outputs": [],
   "source": [
    "prompt = f\"\"\"\n",
    "In triple backticks you will be provided a story in slovene. First identify the characters that appear in a story. then output a json format \n",
    "in which the keys are characters in a story and the value for each character is its sentiment. \n",
    "Put -1 for bad, 0 for neutral and 1 for good. Only output the json structure.\n",
    "\n",
    "```{story}```\n",
    "\"\"\""
   ]
  },
  {
   "cell_type": "code",
   "execution_count": 22,
   "metadata": {},
   "outputs": [
    {
     "name": "stdout",
     "output_type": "stream",
     "text": [
      "245\n",
      "{\n",
      "  \"Lisica\": 0,\n",
      "  \"Zajček\": -1\n",
      "}\n"
     ]
    }
   ],
   "source": [
    "print(get_completion(prompt))"
   ]
  },
  {
   "cell_type": "code",
   "execution_count": 28,
   "metadata": {},
   "outputs": [
    {
     "name": "stdout",
     "output_type": "stream",
     "text": [
      "725\n",
      "{\n",
      "  \"kmetica\": 0,\n",
      "  \"otroci\": 1,\n",
      "  \"lepi ptiček\": 1,\n",
      "  \"bela kača\": 0,\n",
      "  \"ded\": 0,\n",
      "  \"žena\": 0\n",
      "}\n"
     ]
    }
   ],
   "source": [
    "print(get_completion(prompt))"
   ]
  },
  {
   "cell_type": "code",
   "execution_count": 30,
   "metadata": {},
   "outputs": [
    {
     "name": "stdout",
     "output_type": "stream",
     "text": [
      "Babica_in_njeni_štirje_vnučki.txt\n",
      "Babica_in_trije_vnučki.txt\n",
      "Bela_kača_s_kronico.txt\n",
      "729\n",
      "Celovški_zmaj.txt\n",
      "1617\n",
      "Deklica_in_pasjeglavci.txt\n",
      "1731\n",
      "Dolgouhec_in_medved.txt\n",
      "1273\n",
      "Dva_brata.txt\n",
      "3427\n",
      "Dva_lenuha.txt\n",
      "3223\n",
      "Ježek.txt\n",
      "1263\n",
      "Jožkove_sanje.txt\n",
      "550\n",
      "Kaj_delajo_muce,_ko_spijo.txt\n",
      "2376\n",
      "Kako_je_Barica_prevarala_čarovnico.txt\n",
      "2167\n",
      "Kako_so_nastali_krofi.txt\n",
      "1516\n",
      "Kako_so_pulili_repo.txt\n",
      "1207\n",
      "Kako_so_spominčice_dobile_ime.txt\n",
      "2251\n",
      "Kam_gre_staro_leto_in_od_kod_pride_novo.txt\n",
      "1327\n",
      "Kdo_bo_popravil_Luno_.txt\n",
      "970\n",
      "Ko_bi_bilo_vedno_tako.txt\n",
      "1253\n",
      "Kraljevič_in_Lepa_Vida.txt\n",
      "1207\n",
      "Kurent.txt\n",
      "3249\n",
      "Lisica,_volk_in_medved.txt\n",
      "2567\n",
      "Lisica_in_jež.txt\n",
      "935\n",
      "Lisica_in_njene_mlade.txt\n",
      "703\n",
      "Lisica_in_volk.txt\n",
      "766\n",
      "Lucifer_se_ženi.txt\n",
      "2085\n",
      "Mlinar,_njegov_kuhar_in_kralj.txt\n",
      "3151\n",
      "Mož_in_medved.txt\n",
      "495\n",
      "Nace.txt\n",
      "2480\n",
      "Najdražji_zaklad.txt\n",
      "1020\n",
      "Nehvaležna_brata.txt\n",
      "2033\n",
      "Nevoščljivi_zdravnik.txt\n",
      "1754\n",
      "Nožek.txt\n",
      "580\n",
      "Od_kdaj_ima_zajček_kratek_rep.txt\n",
      "1098\n",
      "O_dvanajstih_bratih_in_sestrah.txt\n",
      "3669\n",
      "O_fantu_z_mačko.txt\n",
      "2871\n",
      "O_petelinu_in_zmaju.txt\n",
      "1312\n",
      "O_zlatih_jabolkih.txt\n",
      "2160\n",
      "Oče_je_upil_zvonec,_mati_pa_lonec.txt\n",
      "598\n",
      "Palček.txt\n",
      "2034\n",
      "Pastir_s_čudežnim_kravjim_rogom.txt\n",
      "2202\n",
      "Pastirček.txt\n",
      "1219\n",
      "Pastirček_in_čarovnikova_hči.txt\n",
      "4097\n",
      "Petelin_in_zmaj.txt\n",
      "1231\n",
      "Pogašeni_zmaj.txt\n",
      "2200\n",
      "Pravljica_o_žabi.txt\n",
      "2180\n",
      "Sedem_let_pri_beli_kači.txt\n",
      "860\n",
      "Sin_jež.txt\n",
      "3584\n",
      "Sirotica.txt\n",
      "4071\n",
      "Smrt_in_čevljar.txt\n",
      "1680\n",
      "Speči_zajec.txt\n",
      "474\n",
      "Tea_in_čarobna_travica.txt\n",
      "3318\n",
      "Topli_potok.txt\n",
      "1283\n",
      "Trije_velikani.txt\n",
      "3364\n",
      "Tri_botre_lisičice.txt\n",
      "3940\n",
      "Tri_revne_deklice.txt\n",
      "1857\n",
      "Užaljeni_velikan.txt\n",
      "585\n",
      "Vikin_čarobni_kaktus.txt\n",
      "2767\n",
      "Zakaj_imajo_krave_roge.txt\n",
      "1998\n",
      "Zakaj_sta_Luna_in_Sonce_na_nebu_posebej.txt\n",
      "2023\n",
      "Zakleti_mlin.txt\n",
      "2142\n",
      "Začarani_grad_in_medved.txt\n",
      "2968\n",
      "Začaran_grad_in_medved.txt\n",
      "2934\n",
      "Zdravilno_jabolko.txt\n",
      "2996\n",
      "Zlata_gora.txt\n",
      "Zlata_ptica.txt\n",
      "934\n",
      "Zlata_ribica.txt\n",
      "1745\n",
      "Zlatolaska.txt\n",
      "1818\n",
      "Zlatorog.txt\n",
      "2688\n",
      "Zmaj_v_Peci.txt\n",
      "532\n",
      "Zmaj_v_Postojnski_jami.txt\n",
      "2429\n",
      "Zviti_Martin.txt\n",
      "2159\n",
      "Času_primerna_pravljica.txt\n",
      "1458\n",
      "Čisto_prava_mamica.txt\n",
      "818\n",
      "Čudežni_studenec.txt\n",
      "862\n"
     ]
    }
   ],
   "source": [
    "import os\n",
    "import json\n",
    "from src.data_processing import remove_new_lines\n",
    "\n",
    "directory = \"./data/farytales/stories\"\n",
    "result_dir = \"./data/farytales/character_sentiment\"\n",
    "\n",
    "for filename in os.listdir(directory):\n",
    "    print(filename, flush=True)\n",
    "    f = os.path.join(directory, filename)\n",
    "    with open(f) as f_story:\n",
    "        text = f_story.read()\n",
    "        story = remove_new_lines(text)\n",
    "\n",
    "    prompt = f\"\"\"\n",
    "    In triple backticks you will be provided a story in slovene. First identify the characters that appear in a story. then output a json format \n",
    "    in which the keys are characters in a story and the value for each character is its sentiment. \n",
    "    Put -1 for bad, 0 for neutral and 1 for good. Only output the json structure.\n",
    "\n",
    "    ```{story}```\n",
    "    \"\"\"\n",
    "    try:\n",
    "        s = get_completion(prompt)\n",
    "\n",
    "        result_file = os.path.join(result_dir, filename.replace(\"txt\", \"json\"))\n",
    "\n",
    "        with open(result_file, 'w', encoding='utf-8') as fp:\n",
    "            json.dump(s, fp,ensure_ascii=False)\n",
    "    except:\n",
    "        pass"
   ]
  },
  {
   "cell_type": "code",
   "execution_count": 15,
   "metadata": {},
   "outputs": [
    {
     "name": "stdout",
     "output_type": "stream",
     "text": [
      "Bela_kača_s_kronico.json\n",
      "Celovški_zmaj.json\n"
     ]
    },
    {
     "ename": "JSONDecodeError",
     "evalue": "Expecting value: line 1 column 1 (char 0)",
     "output_type": "error",
     "traceback": [
      "\u001b[1;31m---------------------------------------------------------------------------\u001b[0m",
      "\u001b[1;31mJSONDecodeError\u001b[0m                           Traceback (most recent call last)",
      "Cell \u001b[1;32mIn[15], line 12\u001b[0m\n\u001b[0;32m     10\u001b[0m \u001b[39mwith\u001b[39;00m \u001b[39mopen\u001b[39m(f) \u001b[39mas\u001b[39;00m f_story:\n\u001b[0;32m     11\u001b[0m     text \u001b[39m=\u001b[39m f_story\u001b[39m.\u001b[39mread()\u001b[39m.\u001b[39mreplace(\u001b[39m\"\u001b[39m\u001b[39m\\n\u001b[39;00m\u001b[39m\"\u001b[39m, \u001b[39m\"\u001b[39m\u001b[39m\"\u001b[39m)\n\u001b[1;32m---> 12\u001b[0m     json_obj \u001b[39m=\u001b[39m json\u001b[39m.\u001b[39;49mloads(json\u001b[39m.\u001b[39;49mloads(json\u001b[39m.\u001b[39;49mloads(text)))\n\u001b[0;32m     15\u001b[0m \u001b[39mwith\u001b[39;00m \u001b[39mopen\u001b[39m(f, \u001b[39m'\u001b[39m\u001b[39mw\u001b[39m\u001b[39m'\u001b[39m, encoding\u001b[39m=\u001b[39m\u001b[39m'\u001b[39m\u001b[39mutf-8\u001b[39m\u001b[39m'\u001b[39m) \u001b[39mas\u001b[39;00m fp:\n\u001b[0;32m     16\u001b[0m     json\u001b[39m.\u001b[39mdump(json_obj, fp,ensure_ascii\u001b[39m=\u001b[39m\u001b[39mFalse\u001b[39;00m)\n",
      "File \u001b[1;32mc:\\Users\\Gla\\Miniconda3\\envs\\nlp\\lib\\json\\__init__.py:346\u001b[0m, in \u001b[0;36mloads\u001b[1;34m(s, cls, object_hook, parse_float, parse_int, parse_constant, object_pairs_hook, **kw)\u001b[0m\n\u001b[0;32m    341\u001b[0m     s \u001b[39m=\u001b[39m s\u001b[39m.\u001b[39mdecode(detect_encoding(s), \u001b[39m'\u001b[39m\u001b[39msurrogatepass\u001b[39m\u001b[39m'\u001b[39m)\n\u001b[0;32m    343\u001b[0m \u001b[39mif\u001b[39;00m (\u001b[39mcls\u001b[39m \u001b[39mis\u001b[39;00m \u001b[39mNone\u001b[39;00m \u001b[39mand\u001b[39;00m object_hook \u001b[39mis\u001b[39;00m \u001b[39mNone\u001b[39;00m \u001b[39mand\u001b[39;00m\n\u001b[0;32m    344\u001b[0m         parse_int \u001b[39mis\u001b[39;00m \u001b[39mNone\u001b[39;00m \u001b[39mand\u001b[39;00m parse_float \u001b[39mis\u001b[39;00m \u001b[39mNone\u001b[39;00m \u001b[39mand\u001b[39;00m\n\u001b[0;32m    345\u001b[0m         parse_constant \u001b[39mis\u001b[39;00m \u001b[39mNone\u001b[39;00m \u001b[39mand\u001b[39;00m object_pairs_hook \u001b[39mis\u001b[39;00m \u001b[39mNone\u001b[39;00m \u001b[39mand\u001b[39;00m \u001b[39mnot\u001b[39;00m kw):\n\u001b[1;32m--> 346\u001b[0m     \u001b[39mreturn\u001b[39;00m _default_decoder\u001b[39m.\u001b[39;49mdecode(s)\n\u001b[0;32m    347\u001b[0m \u001b[39mif\u001b[39;00m \u001b[39mcls\u001b[39m \u001b[39mis\u001b[39;00m \u001b[39mNone\u001b[39;00m:\n\u001b[0;32m    348\u001b[0m     \u001b[39mcls\u001b[39m \u001b[39m=\u001b[39m JSONDecoder\n",
      "File \u001b[1;32mc:\\Users\\Gla\\Miniconda3\\envs\\nlp\\lib\\json\\decoder.py:337\u001b[0m, in \u001b[0;36mJSONDecoder.decode\u001b[1;34m(self, s, _w)\u001b[0m\n\u001b[0;32m    332\u001b[0m \u001b[39mdef\u001b[39;00m \u001b[39mdecode\u001b[39m(\u001b[39mself\u001b[39m, s, _w\u001b[39m=\u001b[39mWHITESPACE\u001b[39m.\u001b[39mmatch):\n\u001b[0;32m    333\u001b[0m \u001b[39m    \u001b[39m\u001b[39m\"\"\"Return the Python representation of ``s`` (a ``str`` instance\u001b[39;00m\n\u001b[0;32m    334\u001b[0m \u001b[39m    containing a JSON document).\u001b[39;00m\n\u001b[0;32m    335\u001b[0m \n\u001b[0;32m    336\u001b[0m \u001b[39m    \"\"\"\u001b[39;00m\n\u001b[1;32m--> 337\u001b[0m     obj, end \u001b[39m=\u001b[39m \u001b[39mself\u001b[39;49m\u001b[39m.\u001b[39;49mraw_decode(s, idx\u001b[39m=\u001b[39;49m_w(s, \u001b[39m0\u001b[39;49m)\u001b[39m.\u001b[39;49mend())\n\u001b[0;32m    338\u001b[0m     end \u001b[39m=\u001b[39m _w(s, end)\u001b[39m.\u001b[39mend()\n\u001b[0;32m    339\u001b[0m     \u001b[39mif\u001b[39;00m end \u001b[39m!=\u001b[39m \u001b[39mlen\u001b[39m(s):\n",
      "File \u001b[1;32mc:\\Users\\Gla\\Miniconda3\\envs\\nlp\\lib\\json\\decoder.py:355\u001b[0m, in \u001b[0;36mJSONDecoder.raw_decode\u001b[1;34m(self, s, idx)\u001b[0m\n\u001b[0;32m    353\u001b[0m     obj, end \u001b[39m=\u001b[39m \u001b[39mself\u001b[39m\u001b[39m.\u001b[39mscan_once(s, idx)\n\u001b[0;32m    354\u001b[0m \u001b[39mexcept\u001b[39;00m \u001b[39mStopIteration\u001b[39;00m \u001b[39mas\u001b[39;00m err:\n\u001b[1;32m--> 355\u001b[0m     \u001b[39mraise\u001b[39;00m JSONDecodeError(\u001b[39m\"\u001b[39m\u001b[39mExpecting value\u001b[39m\u001b[39m\"\u001b[39m, s, err\u001b[39m.\u001b[39mvalue) \u001b[39mfrom\u001b[39;00m \u001b[39mNone\u001b[39m\n\u001b[0;32m    356\u001b[0m \u001b[39mreturn\u001b[39;00m obj, end\n",
      "\u001b[1;31mJSONDecodeError\u001b[0m: Expecting value: line 1 column 1 (char 0)"
     ]
    }
   ],
   "source": [
    "import os\n",
    "import json\n",
    "from src.data_processing import remove_new_lines\n",
    "\n",
    "directory = \"./data/farytales/character_sentiment\"\n",
    "\n",
    "for filename in os.listdir(directory):\n",
    "    print(filename, flush=True)\n",
    "    f = os.path.join(directory, filename)\n",
    "    with open(f) as f_story:\n",
    "        text = f_story.read().replace(\"\\n\", \"\")\n",
    "        json_obj = json.loads(json.loads(text))\n",
    "\n",
    "\n",
    "    with open(f, 'w', encoding='utf-8') as fp:\n",
    "        json.dump(json_obj, fp,ensure_ascii=False)\n",
    "    \n",
    "    break\n"
   ]
  },
  {
   "cell_type": "code",
   "execution_count": 19,
   "metadata": {},
   "outputs": [],
   "source": [
    "f = \"./data/farytales/character_sentiment/Času_primerna_pravljica.json\"\n",
    "with open(f) as f_story:\n",
    "   text = f_story.read().replace(\"\\n\", \"\")\n",
    "   json_obj = json.dumps(json.loads(text))\n",
    "\n"
   ]
  },
  {
   "cell_type": "code",
   "execution_count": 20,
   "metadata": {},
   "outputs": [
    {
     "data": {
      "text/plain": [
       "{'Mock-a-fellow': -1, 'poslovodja': 0, 'delavec': 1}"
      ]
     },
     "execution_count": 20,
     "metadata": {},
     "output_type": "execute_result"
    }
   ],
   "source": [
    "json.loads(json.loads(text))"
   ]
  },
  {
   "cell_type": "code",
   "execution_count": null,
   "metadata": {},
   "outputs": [],
   "source": [
    "\n",
    "with open(f, 'w', encoding='utf-8') as fp:\n",
    "    json.dump(json_obj, fp,ensure_ascii=False)"
   ]
  }
 ],
 "metadata": {
  "kernelspec": {
   "display_name": "nlp",
   "language": "python",
   "name": "python3"
  },
  "language_info": {
   "codemirror_mode": {
    "name": "ipython",
    "version": 3
   },
   "file_extension": ".py",
   "mimetype": "text/x-python",
   "name": "python",
   "nbconvert_exporter": "python",
   "pygments_lexer": "ipython3",
   "version": "3.9.0"
  },
  "orig_nbformat": 4
 },
 "nbformat": 4,
 "nbformat_minor": 2
}
